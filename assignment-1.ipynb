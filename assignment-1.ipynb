{
 "cells": [
  {
   "cell_type": "markdown",
   "source": [
    "Download CIFAR-10 Dataset"
   ],
   "metadata": {
    "collapsed": false,
    "pycharm": {
     "name": "#%% md\n"
    }
   }
  },
  {
   "cell_type": "code",
   "execution_count": 1,
   "outputs": [
    {
     "name": "stdout",
     "output_type": "stream",
     "text": [
      "Connected to Internet. Ready for duty.\n"
     ]
    }
   ],
   "source": [
    "# Download URL\n",
    "# https://www.cs.toronto.edu/~kriz/cifar-10-python.tar.gz\n",
    "import os\n",
    "import time\n",
    "import urllib.request\n",
    "import shutil\n",
    "\n",
    "def download_dataset():\n",
    "\n",
    "    import requests\n",
    "    import tarfile\n",
    "    print('Downloading CIFAR Dataset')\n",
    "    url = \"https://www.cs.toronto.edu/~kriz/cifar-10-python.tar.gz\"\n",
    "    response = requests.get(url, stream=True)\n",
    "    print('Download Complete. Extracting ...')\n",
    "    file = tarfile.open(fileobj=response.raw, mode=\"r|gz\")\n",
    "    file.extractall(path=\".\")\n",
    "\n",
    "def connect(host='http://google.com'):\n",
    "    try:\n",
    "        urllib.request.urlopen(host) #Python 3.x\n",
    "        return True\n",
    "    except:\n",
    "        return False\n",
    "# test\n",
    "print( \"Connected to Internet. Ready for duty.\" if connect() else \"no internet!\" )"
   ],
   "metadata": {
    "collapsed": false,
    "pycharm": {
     "name": "#%%\n"
    }
   }
  },
  {
   "cell_type": "markdown",
   "source": [
    "Check for Dataset\n"
   ],
   "metadata": {
    "collapsed": false,
    "pycharm": {
     "name": "#%% md\n"
    }
   }
  },
  {
   "cell_type": "code",
   "execution_count": 3,
   "outputs": [
    {
     "name": "stdout",
     "output_type": "stream",
     "text": [
      "Dataset Unavailable. Connecting to internet ...\n",
      "Downloading CIFAR Dataset\n",
      "Download Complete. Extracting ...\n"
     ]
    }
   ],
   "source": [
    "from os.path import exists\n",
    "\n",
    "file_exists = exists('cifar-10-python.tar.gz')\n",
    "dir_exists = exists('cifar-10-batches-py')\n",
    "if file_exists:\n",
    "    print('Previous File Exists. Removing File ...')\n",
    "    os.unlink('cifar-10-python.tar.gz')\n",
    "# elif dir_exists:\n",
    "#     print('Previous Folder Exists. Removing Folder ...')\n",
    "#     shutil.rmtree('cifar-10-batches-py')\n",
    "else:\n",
    "    print('Dataset Unavailable. Connecting to internet ...')\n",
    "    time.sleep(3)\n",
    "\n",
    "download_dataset()"
   ],
   "metadata": {
    "collapsed": false,
    "pycharm": {
     "name": "#%%\n"
    }
   }
  }
 ],
 "metadata": {
  "kernelspec": {
   "display_name": "Python 3",
   "language": "python",
   "name": "python3"
  },
  "language_info": {
   "codemirror_mode": {
    "name": "ipython",
    "version": 2
   },
   "file_extension": ".py",
   "mimetype": "text/x-python",
   "name": "python",
   "nbconvert_exporter": "python",
   "pygments_lexer": "ipython2",
   "version": "2.7.6"
  }
 },
 "nbformat": 4,
 "nbformat_minor": 0
}